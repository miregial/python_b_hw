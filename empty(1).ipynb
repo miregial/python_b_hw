{
 "cells": [
  {
   "cell_type": "code",
   "execution_count": null,
   "metadata": {},
   "outputs": [],
   "source": []
  },
  {
   "cell_type": "code",
   "execution_count": 1,
   "metadata": {},
   "outputs": [
    {
     "data": {
      "text/plain": [
       "True"
      ]
     },
     "execution_count": 1,
     "metadata": {},
     "output_type": "execute_result"
    }
   ],
   "source": [
    "                                      #симметричный ли список\n",
    "def f(list):\n",
    "    ans=True                         #предполагаем ,что изначально массив сиимметричен\n",
    "    size=len(list)\n",
    "    for i in range(size//2):         #делим его на 2 части для удобства\n",
    "        if list[i]!=list[size-i-1]:  #сравнение первого элемента и последнего, i-го и с конца по порядку -i\n",
    "            ans=False                #в случае нахождения несоответствий\n",
    "        if not ans:\n",
    "            break                   #вываливаемся из цикла\n",
    "    return ans\n",
    "f([1,2,3,2,1])"
   ]
  },
  {
   "cell_type": "code",
   "execution_count": 28,
   "metadata": {},
   "outputs": [
    {
     "name": "stdout",
     "output_type": "stream",
     "text": [
      "321"
     ]
    }
   ],
   "source": [
    "def h(list):              #числа списка наоборот\n",
    "    n=len(list)\n",
    "    for k in range(n):\n",
    "        print (list[n-1-k],end=\"\") \n",
    "h([1,2,3])"
   ]
  },
  {
   "cell_type": "code",
   "execution_count": 25,
   "metadata": {},
   "outputs": [
    {
     "data": {
      "text/plain": [
       "[3, 2, 1]"
      ]
     },
     "execution_count": 25,
     "metadata": {},
     "output_type": "execute_result"
    }
   ],
   "source": [
    "def h2(list):                                         # сделаем список наоборот\n",
    "    size = len(list)\n",
    "    for i in range(size//2):                          #делим пополам  для удобства и смены значений\n",
    "        list[i],list[size-1-i] = list[size-1-i],list[i]\n",
    "    return list\n",
    "c"
   ]
  },
  {
   "cell_type": "code",
   "execution_count": 47,
   "metadata": {},
   "outputs": [
    {
     "data": {
      "text/plain": [
       "[5, 1, 2, 3, 4]"
      ]
     },
     "execution_count": 47,
     "metadata": {},
     "output_type": "execute_result"
    }
   ],
   "source": [
    "def h3(list):                     #сдвиг элементов на 1 вправо \n",
    "    res=len(list)                 \n",
    "    a = list[res-1]               #сохраняем последний элемент , чтобы при сдвиге не потерять\n",
    "    for i in range(res-2,-1,-1):  #начинаем двигаться с конца,чтобы не затирать предыдущие элементы\n",
    "        list[i+1]= list[i]        #делаем замену элементов\n",
    "    list[0]=a                     #вне цикла ставим на первую позицую последнее число\n",
    "    return(list)\n",
    "h3([1,2,3,4,5])"
   ]
  },
  {
   "cell_type": "code",
   "execution_count": 57,
   "metadata": {},
   "outputs": [
    {
     "data": {
      "text/plain": [
       "[1, 2, 3, 4]"
      ]
     },
     "execution_count": 57,
     "metadata": {},
     "output_type": "execute_result"
    }
   ],
   "source": [
    "def h4(s1,s2):  #2 множества\n",
    "    set(s1)\n",
    "    set(s2)\n",
    "    ot= s1.union(s2) #объединение\n",
    "    return list(ot)\n",
    "h4({1,2,3},{2,3,4})"
   ]
  },
  {
   "cell_type": "code",
   "execution_count": 67,
   "metadata": {},
   "outputs": [
    {
     "name": "stdout",
     "output_type": "stream",
     "text": [
      "1\n",
      "2\n",
      "3\n",
      "2\n",
      "3\n",
      "4\n"
     ]
    }
   ],
   "source": [
    "def p4(set1,set2):  #2 множества\n",
    "    set(set1)\n",
    "    set(set2)\n",
    "    for x in set1:\n",
    "        print (x)\n",
    "    for y in set2:\n",
    "        print (y)\n",
    "    if set1=set2:\n",
    "        return set1\n",
    "    elif \n",
    "    return list(answer)\n",
    "p4({1,2,3},{2,3,4})"
   ]
  },
  {
   "cell_type": "code",
   "execution_count": 68,
   "metadata": {},
   "outputs": [],
   "source": [
    "def p4(set1,set2):  #2 множества\n",
    "    list(set1)\n",
    "    list(set2)\n",
    "    set3 = set1+set2\n",
    "    print(set3)\n",
    "p4(1,2,3},{2,3,4})"
   ]
  },
  {
   "cell_type": "code",
   "execution_count": null,
   "metadata": {},
   "outputs": [],
   "source": []
  }
 ],
 "metadata": {
  "kernelspec": {
   "display_name": "Python 3",
   "language": "python",
   "name": "python3"
  },
  "language_info": {
   "codemirror_mode": {
    "name": "ipython",
    "version": 3
   },
   "file_extension": ".py",
   "mimetype": "text/x-python",
   "name": "python",
   "nbconvert_exporter": "python",
   "pygments_lexer": "ipython3",
   "version": "3.7.0"
  }
 },
 "nbformat": 4,
 "nbformat_minor": 2
}
