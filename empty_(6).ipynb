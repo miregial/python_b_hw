{
 "cells": [
  {
   "cell_type": "code",
   "execution_count": 22,
   "metadata": {},
   "outputs": [
    {
     "name": "stdout",
     "output_type": "stream",
     "text": [
      "Введите чётное число:\n",
      "10\n",
      "9.0 . далее:\n",
      "2.0 + 8.0\n",
      "8.0 далее\n",
      "3.0 + 7.0\n"
     ]
    }
   ],
   "source": [
    "# Гипотеза простых чисел Гольдбаха утверждает, \n",
    "#что любое четное число можно представить в виде суммы двух \n",
    "#простых чисел. Давайте напишем программу проверяющую эту гипотезу дляпредварительно заданого числа\n",
    "def is_prime(num):\n",
    "    i = 1\n",
    "    while i < num:\n",
    "        if num % i == 0:\n",
    "            return False \n",
    "            break\n",
    "        i += 1\n",
    "        \n",
    "    if i == num:\n",
    "        return True\n",
    "\n",
    "print(\"Введите чётное число:\")\n",
    "num = 1\n",
    "while num%2  != 0:\n",
    "    num = int(input())\n",
    "\n",
    "simple_1 = num/2\n",
    "simple_2 = num/2\n",
    "\n",
    "while simple_1 < 1 and simple_2 < num:\n",
    "    is_simple1 = true\n",
    "    is_simple2 = true\n",
    "    # что делать дальше догадайтесь сами\n",
    "    \n",
    "a=num/num\n",
    "b=num-a\n",
    "c=b/b\n",
    "d=b-c\n",
    "if a is  is_prime(num):\n",
    "    print (a,'+',b)\n",
    "else:\n",
    "    print(b, \". далее:\")\n",
    "    print(a+ c,'+',d)\n",
    "if d is not is_prime(num):\n",
    "        print(d,'далее')\n",
    "        e = d/d\n",
    "        f=d-e\n",
    "        print(a+c+e,'+',f)\n",
    "else:\n",
    "        print (a,'+',b)"
   ]
  },
  {
   "cell_type": "code",
   "execution_count": 2,
   "metadata": {},
   "outputs": [
    {
     "name": "stdout",
     "output_type": "stream",
     "text": [
      "7\n",
      "Число 7 составное\n"
     ]
    }
   ],
   "source": [
    "#Основная теорема арифметики гласит, что любое составное целое число\n",
    "#представлятся в виде произведения простых сомножителей, причем единственным образом. \n",
    "#Например 50 = 255. Напишите программу, которая для данного числа печатает его разложение на простые сомножители.\n",
    "def is_primee(num):\n",
    "    i = 1\n",
    "    while i < num:\n",
    "        if num % i == 0:\n",
    "            return False \n",
    "            break\n",
    "        i += 1\n",
    "        \n",
    "    if i == num:\n",
    "        return True\n",
    "\n",
    "g=num/2\n",
    "\n",
    "num = int(input())\n",
    "if is_prime(num):\n",
    "    print(f\"Число {num} простое\")\n",
    "    print('1 x',num)\n",
    "else:\n",
    "    print(f\"Число {num} составное\")\n",
    "if num%2 is 0 :\n",
    "    print(g, '*', 2)\n",
    "    if g is not is_prime(num):\n",
    "        h=g//2\n",
    "        print(h, '*', 2,'*',2)\n"
   ]
  },
  {
   "cell_type": "code",
   "execution_count": null,
   "metadata": {},
   "outputs": [],
   "source": []
  },
  {
   "cell_type": "code",
   "execution_count": null,
   "metadata": {},
   "outputs": [],
   "source": []
  }
 ],
 "metadata": {
  "kernelspec": {
   "display_name": "Python 3",
   "language": "python",
   "name": "python3"
  },
  "language_info": {
   "codemirror_mode": {
    "name": "ipython",
    "version": 3
   },
   "file_extension": ".py",
   "mimetype": "text/x-python",
   "name": "python",
   "nbconvert_exporter": "python",
   "pygments_lexer": "ipython3",
   "version": "3.7.0"
  }
 },
 "nbformat": 4,
 "nbformat_minor": 2
}
