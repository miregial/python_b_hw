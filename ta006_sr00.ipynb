{
 "cells": [
  {
   "cell_type": "markdown",
   "metadata": {},
   "source": [
    "# Знакомство с SymPy"
   ]
  },
  {
   "cell_type": "markdown",
   "metadata": {},
   "source": [
    "### Самостоятельная работа"
   ]
  },
  {
   "cell_type": "markdown",
   "metadata": {},
   "source": [
    "### Тулеубаева Айгерим  (ta006), группа: Б18-702"
   ]
  },
  {
   "cell_type": "markdown",
   "metadata": {},
   "source": [
    "**Выполните указанные ниже действия, сохраните свою работу в виде ipynb-файла с именем `ta006_sr00.ipynb` и прикрепите этот файл к сообщению своему преподавателю**."
   ]
  },
  {
   "cell_type": "markdown",
   "metadata": {},
   "source": [
    "**Задание 1.** Постройте график той первообразной функции $(4x+7)^2(3x-11)^3$, которая в точке $x_0=-2$ принимает значение $y_0=19992$."
   ]
  },
  {
   "cell_type": "code",
   "execution_count": 2,
   "metadata": {},
   "outputs": [
    {
     "name": "stdout",
     "output_type": "stream",
     "text": [
      "Integral((3*x - 11)**3*(4*x + 7)**2, x)\n"
     ]
    },
    {
     "data": {
      "image/png": "[encoded data removed]",
      "text/plain": [
       "<Figure size 432x288 with 1 Axes>"
      ]
     },
     "metadata": {
      "needs_background": "light"
     },
     "output_type": "display_data"
    },
    {
     "data": {
      "text/plain": [
       "<sympy.plotting.plot.Plot at 0x7f16a8b2def0>"
      ]
     },
     "execution_count": 2,
     "metadata": {},
     "output_type": "execute_result"
    }
   ],
   "source": [
    "from sympy import *\n",
    "init_printing()\n",
    "var('x')\n",
    "f = Integral(((((4*x) + 7)**2)*((((3*x)-11))**3)),x)\n",
    "print(f)\n",
    "f.doit()\n",
    "a = integrate(f,x)\n",
    "c = a - a.subs(x,-2)+19992\n",
    "c.subs(x,-2)\n",
    "plot(c, (x, -2, 1))"
   ]
  },
  {
   "cell_type": "markdown",
   "metadata": {},
   "source": [
    "**Задание 2.** Найдите площадь треугольника, построенного на векторах $\\vec{u} = (-915,1002,1213)$ и $\\vec{v} = (1180,1218,1015)$.\n",
    "Завершите решение созданием (вручную) ячейки типа `Markdown`,\n",
    "в которой полученному ответу, округлённому до целого числа,\n",
    "предшествует текст «`Ответ:`»"
   ]
  },
  {
   "cell_type": "code",
   "execution_count": 3,
   "metadata": {},
   "outputs": [
    {
     "name": "stdout",
     "output_type": "stream",
     "text": [
      "[-460404]\n",
      "[2360065]\n",
      "[-2296830]\n"
     ]
    },
    {
     "data": {
      "image/png": "[encoded data removed]",
      "text/latex": [
       "$$1662626$$"
      ],
      "text/plain": [
       "1662626"
      ]
     },
     "execution_count": 3,
     "metadata": {},
     "output_type": "execute_result"
    }
   ],
   "source": [
    "u=Matrix([[-915, 1002, 1213]])\n",
    "v =Matrix([[1180, 1218, 1015]])\n",
    "p = (u.cross(v))\n",
    "a=p[:1]\n",
    "b=p[1:2]\n",
    "c=p[2:]\n",
    "print(a)\n",
    "print(b)\n",
    "print(c)\n",
    "s = abs(((sqrt(((-460404)**2+(2360065)**2+(-2296830)**2)))/2).evalf())\n",
    "round(s)"
   ]
  },
  {
   "cell_type": "markdown",
   "metadata": {},
   "source": [
    "Ответ: 1662626"
   ]
  },
  {
   "cell_type": "markdown",
   "metadata": {},
   "source": [
    "**Задание 3.** Найдите величину угла в радианах между плоскостью $\\displaystyle \\pi\\colon -724x + 1166y - 732z - 748 = 0$ и прямой $\\displaystyle l\\colon \\left\\{\\begin{array}{l}\n",
    "x(t) = 1007t - 1256\\\\\n",
    "y(t)=-964t + 1190\\\\\n",
    "z(t)=-933t + 1151\n",
    "\\end{array}\\right.$.\n",
    "Завершите решение созданием (вручную) ячейки типа `Markdown`,\n",
    "в которой полученному ответу, округлённому до сотых,\n",
    "предшествует текст «`Ответ:`»"
   ]
  },
  {
   "cell_type": "code",
   "execution_count": 4,
   "metadata": {},
   "outputs": [
    {
     "name": "stdout",
     "output_type": "stream",
     "text": [
      "117\n"
     ]
    }
   ],
   "source": [
    "from math import sqrt, acos, degrees\n",
    " \n",
    "x1 = -724\n",
    "y1 = 1166\n",
    "z1 = -732\n",
    " \n",
    "x2 = 1007\n",
    "y2 = -964\n",
    "z2 = -933\n",
    " \n",
    "def scalar(x1, y1, z1, x2, y2, z2):\n",
    "    return x1*x2 + y1*y2 + z1*z2\n",
    " \n",
    "def module(x, y, z):\n",
    "    return sqrt(x ** 2 + y ** 2 + z ** 2)\n",
    " \n",
    "cos = scalar(x1, y1, z1, x2, y2, z2)/(module(x1,y1,z1)*module(x2,y2,z2))\n",
    " \n",
    "ang = acos(cos)\n",
    " \n",
    "print(round(degrees(acos(cos))))"
   ]
  },
  {
   "cell_type": "markdown",
   "metadata": {},
   "source": [
    "Ответ: 117"
   ]
  },
  {
   "cell_type": "code",
   "execution_count": null,
   "metadata": {},
   "outputs": [],
   "source": []
  }
 ],
 "metadata": {
  "kernelspec": {
   "display_name": "Python 3",
   "language": "python",
   "name": "python3"
  },
  "language_info": {
   "codemirror_mode": {
    "name": "ipython",
    "version": 3
   },
   "file_extension": ".py",
   "mimetype": "text/x-python",
   "name": "python",
   "nbconvert_exporter": "python",
   "pygments_lexer": "ipython3",
   "version": "3.7.0"
  }
 },
 "nbformat": 4,
 "nbformat_minor": 2
}
