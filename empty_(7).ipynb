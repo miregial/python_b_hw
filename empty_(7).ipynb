{
 "cells": [
  {
   "cell_type": "code",
   "execution_count": 67,
   "metadata": {},
   "outputs": [
    {
     "name": "stdout",
     "output_type": "stream",
     "text": [
      "True\n"
     ]
    }
   ],
   "source": [
    "A = {1,5,6}\n",
    "B = {1,2,4,5}\n",
    "C = A.intersection(B)\n",
    "def f(x,y):\n",
    "    if (x in C or y in C)==True:\n",
    "        print('True')\n",
    "    else:\n",
    "        print('False')\n",
    "    \n",
    "f(1,5)"
   ]
  },
  {
   "cell_type": "code",
   "execution_count": 58,
   "metadata": {},
   "outputs": [
    {
     "name": "stdout",
     "output_type": "stream",
     "text": [
      "True\n"
     ]
    }
   ],
   "source": [
    "A = {1,5,6}\n",
    "B = {1,2,4,5}\n",
    "C = A.intersection(B)\n",
    "print(5 in C)"
   ]
  },
  {
   "cell_type": "code",
   "execution_count": 41,
   "metadata": {},
   "outputs": [
    {
     "name": "stdout",
     "output_type": "stream",
     "text": [
      "2\n",
      "3\n",
      "5\n",
      "7\n",
      "11\n"
     ]
    }
   ],
   "source": [
    "primes = {2, 3, 5, 7, 11}\n",
    "for num in primes:\n",
    "    print(num)"
   ]
  },
  {
   "cell_type": "code",
   "execution_count": 49,
   "metadata": {},
   "outputs": [
    {
     "data": {
      "text/plain": [
       "{1, 5}"
      ]
     },
     "execution_count": 49,
     "metadata": {},
     "output_type": "execute_result"
    }
   ],
   "source": [
    "A = {1,5,6}\n",
    "B = {1,2,4,5}\n",
    "A.intersection(B)"
   ]
  },
  {
   "cell_type": "code",
   "execution_count": 71,
   "metadata": {},
   "outputs": [
    {
     "name": "stdout",
     "output_type": "stream",
     "text": [
      "x=2\n",
      "y=3\n",
      "r=1\n",
      "Расстояние до точки от начала координат равно 3.61\n",
      "точка находится за пределами круга\n"
     ]
    }
   ],
   "source": [
    "from math import*\n",
    "x = float(input(\"x=\"))\n",
    "y = float(input(\"y=\"))\n",
    "r = float(input(\"r=\"))\n",
    "h = sqrt(x**2 + y**2)\n",
    "print(\"Расстояние до точки от начала координат равно %.2f\" % h)\n",
    "if h > r:\n",
    "    print(\"точка находится за пределами круга\")\n",
    "else:\n",
    "    print(\"точка принадлежит кругу\")"
   ]
  },
  {
   "cell_type": "code",
   "execution_count": null,
   "metadata": {},
   "outputs": [],
   "source": []
  }
 ],
 "metadata": {
  "kernelspec": {
   "display_name": "Python 3",
   "language": "python",
   "name": "python3"
  },
  "language_info": {
   "codemirror_mode": {
    "name": "ipython",
    "version": 3
   },
   "file_extension": ".py",
   "mimetype": "text/x-python",
   "name": "python",
   "nbconvert_exporter": "python",
   "pygments_lexer": "ipython3",
   "version": "3.7.0"
  }
 },
 "nbformat": 4,
 "nbformat_minor": 2
}
