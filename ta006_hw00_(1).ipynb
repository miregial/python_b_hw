{
 "cells": [
  {
   "cell_type": "markdown",
   "metadata": {},
   "source": [
    "# Знакомство с SymPy"
   ]
  },
  {
   "cell_type": "markdown",
   "metadata": {},
   "source": [
    "### Индивидуальное домашнее задание"
   ]
  },
  {
   "cell_type": "markdown",
   "metadata": {},
   "source": [
    "9### Тулеубаева Айгерим  (ta006), группа: Б18-702"
   ]
  },
  {
   "cell_type": "markdown",
   "metadata": {},
   "source": [
    "**Выполните указанные ниже действия, сохраните свою работу в виде ipynb-файла с именем `ta006_hw00.ipynb` и прикрепите этот файл к сообщению своему преподавателю**."
   ]
  },
  {
   "cell_type": "markdown",
   "metadata": {},
   "source": [
    "**Задание 1.** Вычислите значение выражения $\\displaystyle\\ln\\left(\\frac{\\sqrt[3]{\\ln2}}{(3-e){(\\cos3 + 5)}^2}\\right)$ с точностью 40 значащих десятичных цифр."
   ]
  },
  {
   "cell_type": "code",
   "execution_count": 252,
   "metadata": {},
   "outputs": [
    {
     "data": {
      "image/png": "[encoded data removed]",
      "text/latex": [
       "$$-1.63290909903697$$"
      ],
      "text/plain": [
       "-1.63290909903697"
      ]
     },
     "execution_count": 252,
     "metadata": {},
     "output_type": "execute_result"
    }
   ],
   "source": [
    "import math\n",
    "from sympy import *\n",
    "a=math.e\n",
    "init_printing()\n",
    "#b=expand((cos(3)+5)**2)\n",
    "f = ln(((ln(2))**(1/3))/((3-a)*(cos(3)+5)**2))\n",
    "f\n",
    "f.round(40)\n",
    "#nrs = nroots(f, n=40) # численные корни  solve - символьные корни\n",
    "#nrs"
   ]
  },
  {
   "cell_type": "code",
   "execution_count": 253,
   "metadata": {},
   "outputs": [
    {
     "data": {
      "image/png": "[encoded data removed]",
      "text/latex": [
       "$$-1.63290909903697$$"
      ],
      "text/plain": [
       "-1.63290909903697"
      ]
     },
     "execution_count": 253,
     "metadata": {},
     "output_type": "execute_result"
    }
   ],
   "source": [
    "a =cos(3).evalf()\n",
    "b=(a+5)**2\n",
    "c = E.evalf() \n",
    "c1=(3-c)\n",
    "d=c1*b\n",
    "f=ln(2).evalf()\n",
    "g=f**(1/3)\n",
    "h=g/d\n",
    "k=ln(h).evalf()\n",
    "k.round(40)"
   ]
  },
  {
   "cell_type": "markdown",
   "metadata": {},
   "source": [
    "**Задание 3.** Разложите на множители многочлен $4 u^{2} x z^{2} - 12 u^{2} x z + 9 u^{2} x - 8 u^{2} y z^{2} + 24 u^{2} y z - 18 u^{2} y + 8 u x z^{3} - 24 u x z^{2} + 18 u x z - 16 u y z^{3} + 48 u y z^{2} - 36 u y z + 4 x z^{4} - 12 x z^{3} + 9 x z^{2} - 8 y z^{4} + 24 y z^{3} - 18 y z^{2}$."
   ]
  },
  {
   "cell_type": "code",
   "execution_count": 259,
   "metadata": {},
   "outputs": [
    {
     "data": {
      "image/png": "[encoded data removed]",
      "text/latex": [
       "$$u^{2} \\left(4 x z^{2} - 3 x z - 8 y z^{2} + 24 y z - 18 y\\right) + u \\left(8 x z^{3} - 24 x z^{2} + 18 x z - 16 y z^{3} + 48 y z^{2} - 36 y z\\right) + 4 x z^{4} - 12 x z^{3} + 9 x z^{2} - 8 y z^{4} + 24 y z^{3} - 18 y z^{2}$$"
      ],
      "text/plain": [
       " 2 ⎛     2                2                ⎞     ⎛     3         2            \n",
       "u ⋅⎝4⋅x⋅z  - 3⋅x⋅z - 8⋅y⋅z  + 24⋅y⋅z - 18⋅y⎠ + u⋅⎝8⋅x⋅z  - 24⋅x⋅z  + 18⋅x⋅z - \n",
       "\n",
       "      3         2         ⎞        4         3        2        4         3    \n",
       "16⋅y⋅z  + 48⋅y⋅z  - 36⋅y⋅z⎠ + 4⋅x⋅z  - 12⋅x⋅z  + 9⋅x⋅z  - 8⋅y⋅z  + 24⋅y⋅z  - 1\n",
       "\n",
       "     2\n",
       "8⋅y⋅z "
      ]
     },
     "execution_count": 259,
     "metadata": {},
     "output_type": "execute_result"
    }
   ],
   "source": [
    "var('u,x,z,y')\n",
    "f  =  (4*u**2*x*z**2)-(12*u**2*x*z)+(9*u**2*x*z)-(8*u**2*y*z**2)+(24*u**2*y*z)-(18*u**2*y)+(8*u*x*z**3)-24*u*x*z**2+18*u*x*z-16*u*y*z**3+48*y*u*z**2-36*u*y*z+4*x*z**4-12*x*z**3+9*x*z**2-8*y*z**4+24*y*z**3-18*y*z**2\n",
    "a = apart(f,u)\n",
    "a #разложение"
   ]
  },
  {
   "cell_type": "code",
   "execution_count": 177,
   "metadata": {},
   "outputs": [
    {
     "data": {
      "image/png": "[encoded data removed]",
      "text/latex": [
       "$$u^{2} x \\left(4 z^{2} - 3 z\\right) + u^{2} y \\left(- 8 z^{2} + 24 z - 18\\right) + u x \\left(8 z^{3} - 24 z^{2} + 18 z\\right) + u y \\left(- 16 z^{3} + 48 z^{2} - 36 z\\right) + x \\left(4 z^{4} - 12 z^{3} + 9 z^{2}\\right) + y \\left(- 8 z^{4} + 24 z^{3} - 18 z^{2}\\right)$$"
      ],
      "text/plain": [
       " 2   ⎛   2      ⎞    2   ⎛     2            ⎞       ⎛   3       2       ⎞     \n",
       "u ⋅x⋅⎝4⋅z  - 3⋅z⎠ + u ⋅y⋅⎝- 8⋅z  + 24⋅z - 18⎠ + u⋅x⋅⎝8⋅z  - 24⋅z  + 18⋅z⎠ + u⋅\n",
       "\n",
       "  ⎛      3       2       ⎞     ⎛   4       3      2⎞     ⎛     4       3      \n",
       "y⋅⎝- 16⋅z  + 48⋅z  - 36⋅z⎠ + x⋅⎝4⋅z  - 12⋅z  + 9⋅z ⎠ + y⋅⎝- 8⋅z  + 24⋅z  - 18⋅\n",
       "\n",
       " 2⎞\n",
       "z ⎠"
      ]
     },
     "execution_count": 177,
     "metadata": {},
     "output_type": "execute_result"
    }
   ],
   "source": [
    "factor(f,x,y,u) #вынесение за скобку"
   ]
  },
  {
   "cell_type": "code",
   "execution_count": 264,
   "metadata": {},
   "outputs": [
    {
     "data": {
      "image/png": "[encoded data removed]",
      "text/latex": [
       "$$x z \\left(u \\left(- 3 u + 18\\right) + z \\left(u \\left(4 u - 24\\right) + z \\left(8 u + 4 z - 12\\right) + 9\\right)\\right) + y \\left(- 18 u^{2} + z \\left(u \\left(24 u - 36\\right) + z \\left(u \\left(- 8 u + 48\\right) + z \\left(- 16 u - 8 z + 24\\right) - 18\\right)\\right)\\right)$$"
      ],
      "text/plain": [
       "                                                                    ⎛      2  \n",
       "x⋅z⋅(u⋅(-3⋅u + 18) + z⋅(u⋅(4⋅u - 24) + z⋅(8⋅u + 4⋅z - 12) + 9)) + y⋅⎝- 18⋅u  +\n",
       "\n",
       "                                                                  ⎞\n",
       " z⋅(u⋅(24⋅u - 36) + z⋅(u⋅(-8⋅u + 48) + z⋅(-16⋅u - 8⋅z + 24) - 18))⎠"
      ]
     },
     "execution_count": 264,
     "metadata": {},
     "output_type": "execute_result"
    }
   ],
   "source": [
    "horner(f) #схема горнера Ответ"
   ]
  },
  {
   "cell_type": "markdown",
   "metadata": {},
   "source": [
    "**Задание 4.** Найдите действительные корни уравнения $9 x^{4} + 21 x^{3} + 4 x^{2} - 94 x - 336 = 0$."
   ]
  },
  {
   "cell_type": "code",
   "execution_count": 49,
   "metadata": {},
   "outputs": [
    {
     "data": {
      "image/png": "[encoded data removed]",
      "text/latex": [
       "$$\\left [ - \\frac{8}{3}, \\quad \\frac{7}{3}\\right ]$$"
      ],
      "text/plain": [
       "[-8/3, 7/3]"
      ]
     },
     "execution_count": 49,
     "metadata": {},
     "output_type": "execute_result"
    }
   ],
   "source": [
    "from sympy import *\n",
    "x = symbols('x', real=True)\n",
    "solve(9*x**4+21*x**3+4*x**2-94*x-336)"
   ]
  },
  {
   "cell_type": "markdown",
   "metadata": {},
   "source": [
    "**Задание 5.** Постройте график функции, заданной неявно: $4y^2-4x^2y-x^5=0$. Используйте одинаковый масштаб по координатным осям."
   ]
  },
  {
   "cell_type": "code",
   "execution_count": 72,
   "metadata": {},
   "outputs": [
    {
     "data": {
      "image/png": "[encoded data removed]",
      "text/plain": [
       "<Figure size 432x288 with 1 Axes>"
      ]
     },
     "metadata": {
      "needs_background": "light"
     },
     "output_type": "display_data"
    },
    {
     "data": {
      "image/png": "[encoded data removed]",
      "text/latex": [
       "$$- x^{5} - 4 x^{2} y + 4 y^{2} = 0$$"
      ],
      "text/plain": [
       "   5      2        2    \n",
       "- x  - 4⋅x ⋅y + 4⋅y  = 0"
      ]
     },
     "execution_count": 72,
     "metadata": {},
     "output_type": "execute_result"
    }
   ],
   "source": [
    "from sympy import *\n",
    "var('x y')\n",
    "(x, y)\n",
    "plot_implicit(Eq(4*y**2-4*x**2*y-x**5, 0))\n",
    "f=Eq(4*y**2-4*x**2*y-x**5, 0)\n",
    "f"
   ]
  }
 ],
 "metadata": {
  "kernelspec": {
   "display_name": "Python 3",
   "language": "python",
   "name": "python3"
  },
  "language_info": {
   "codemirror_mode": {
    "name": "ipython",
    "version": 3
   },
   "file_extension": ".py",
   "mimetype": "text/x-python",
   "name": "python",
   "nbconvert_exporter": "python",
   "pygments_lexer": "ipython3",
   "version": "3.7.0"
  }
 },
 "nbformat": 4,
 "nbformat_minor": 2
}
