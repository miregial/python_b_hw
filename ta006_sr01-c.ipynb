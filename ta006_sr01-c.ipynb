{
 "cells": [
  {
   "cell_type": "markdown",
   "metadata": {},
   "source": [
    "# Работа с SymPy"
   ]
  },
  {
   "cell_type": "markdown",
   "metadata": {},
   "source": [
    "### Самостоятельная работа"
   ]
  },
  {
   "cell_type": "markdown",
   "metadata": {},
   "source": [
    "### Тулеубаева Айгерим  (ta006), группа: Б18-702"
   ]
  },
  {
   "cell_type": "markdown",
   "metadata": {},
   "source": [
    "**Выполните указанные ниже действия, сохраните свою работу в виде ipynb-файла с именем `ta006_sr01-c.ipynb` и прикрепите этот файл к сообщению своему преподавателю**."
   ]
  },
  {
   "cell_type": "markdown",
   "metadata": {},
   "source": [
    "**Задание 1.** Постройте график той первообразной функции $(6x+7)^2(3x-11)^3$, которая в точке $x_0=0$ принимает значение $y_0=17206$."
   ]
  },
  {
   "cell_type": "code",
   "execution_count": 12,
   "metadata": {},
   "outputs": [
    {
     "name": "stdout",
     "output_type": "stream",
     "text": [
      "Integral((3*x - 11)**3*(6*x + 7)**2, x)\n"
     ]
    },
    {
     "data": {
      "image/png": "[encoded data removed]",
      "text/plain": [
       "<Figure size 432x288 with 1 Axes>"
      ]
     },
     "metadata": {
      "needs_background": "light"
     },
     "output_type": "display_data"
    },
    {
     "data": {
      "text/plain": [
       "<sympy.plotting.plot.Plot at 0x7f5080979588>"
      ]
     },
     "execution_count": 12,
     "metadata": {},
     "output_type": "execute_result"
    }
   ],
   "source": [
    "from sympy import *\n",
    "init_printing()\n",
    "var('x')\n",
    "f = Integral(((6*x+7)**2)*((3*x-11)**3),x)\n",
    "print(f)\n",
    "f.doit()\n",
    "a = integrate(f,x)\n",
    "c = a - a.subs(x,0)+17206\n",
    "c.subs(x,0)\n",
    "plot(c, (x, -2, 1))"
   ]
  },
  {
   "cell_type": "markdown",
   "metadata": {},
   "source": [
    "**Задание 2.** Найдите величину угла в градусах между плоскостью $\\displaystyle \\pi\\colon 1107x - 735y + 1172z - 922 = 0$ и прямой $\\displaystyle l\\colon \\left\\{\\begin{array}{l}\n",
    "x(t) = 1139t - 800\\\\\n",
    "y(t)=-839t + 786\\\\\n",
    "z(t)=1223t + 1205\n",
    "\\end{array}\\right.$.\n",
    "Завершите решение созданием (вручную) ячейки типа `Markdown`,\n",
    "в которой полученному ответу, округлённому до сотых,\n",
    "предшествует текст «`Ответ:`»"
   ]
  },
  {
   "cell_type": "code",
   "execution_count": 53,
   "metadata": {},
   "outputs": [
    {
     "name": "stdout",
     "output_type": "stream",
     "text": [
      "2.18\n"
     ]
    }
   ],
   "source": [
    "\n",
    "from math import sqrt, acos, degrees\n",
    " \n",
    "x1 = 1107\n",
    "y1 = -735\n",
    "z1 = 1172\n",
    " \n",
    "x2 = 1139\n",
    "y2 = -839\n",
    "z2 = 1223\n",
    " \n",
    "def scalar(x1, y1, z1, x2, y2, z2):\n",
    "    return x1*x2 + y1*y2 + z1*z2\n",
    " \n",
    "def module(x, y, z):\n",
    "    return sqrt(x ** 2 + y ** 2 + z ** 2)\n",
    " \n",
    "cos = scalar(x1, y1, z1, x2, y2, z2)/(module(x1,y1,z1)*module(x2,y2,z2))\n",
    " \n",
    "ang = acos(cos)\n",
    "print(round(degrees(ang),2))\n",
    "#round(degrees(acos(2)),2)"
   ]
  },
  {
   "cell_type": "markdown",
   "metadata": {},
   "source": [
    "**Задание 3.** Найдите точки минимума производной функции $(2x+5)^2(5x-11)^3(6x+4)^2$ с пятью значащими цифрами.\n",
    "**Подсказка:** *Для нахождения действительных корней уравнения рекомендуется использовать функцию `nroots` со значением параметра `n=5` (например, `nroots(x**2-2, n=5)`).*"
   ]
  },
  {
   "cell_type": "code",
   "execution_count": 56,
   "metadata": {},
   "outputs": [
    {
     "data": {
      "image/png": "[encoded data removed]",
      "text/latex": [
       "$$\\left(2 x + 5\\right)^{2} \\left(5 x - 11\\right)^{3} \\left(6 x + 4\\right)^{2}$$"
      ],
      "text/plain": [
       "         2           3          2\n",
       "(2⋅x + 5) ⋅(5⋅x - 11) ⋅(6⋅x + 4) "
      ]
     },
     "execution_count": 56,
     "metadata": {},
     "output_type": "execute_result"
    }
   ],
   "source": [
    "f = (((2*x+5)**2)*((5*x-11)**3)*((6*x+4)**2))\n",
    "f"
   ]
  },
  {
   "cell_type": "code",
   "execution_count": 57,
   "metadata": {},
   "outputs": [
    {
     "data": {
      "image/png": "[encoded data removed]",
      "text/latex": [
       "$$\\left(2 x + 5\\right)^{2} \\left(5 x - 11\\right)^{3} \\left(72 x + 48\\right) + 15 \\left(2 x + 5\\right)^{2} \\left(5 x - 11\\right)^{2} \\left(6 x + 4\\right)^{2} + \\left(5 x - 11\\right)^{3} \\left(6 x + 4\\right)^{2} \\left(8 x + 20\\right)$$"
      ],
      "text/plain": [
       "         2           3                           2           2          2     \n",
       "(2⋅x + 5) ⋅(5⋅x - 11) ⋅(72⋅x + 48) + 15⋅(2⋅x + 5) ⋅(5⋅x - 11) ⋅(6⋅x + 4)  + (5\n",
       "\n",
       "        3          2           \n",
       "⋅x - 11) ⋅(6⋅x + 4) ⋅(8⋅x + 20)"
      ]
     },
     "execution_count": 57,
     "metadata": {},
     "output_type": "execute_result"
    }
   ],
   "source": [
    "f1 = diff(f,x)\n",
    "f1"
   ]
  },
  {
   "cell_type": "code",
   "execution_count": 69,
   "metadata": {},
   "outputs": [
    {
     "data": {
      "image/png": "[encoded data removed]",
      "text/latex": [
       "$$\\left [ -2.5, \\quad -1.7387, \\quad -0.66667, \\quad 0.73398, \\quad 2.2, \\quad 2.2\\right ]$$"
      ],
      "text/plain": [
       "[-2.5, -1.7387, -0.66667, 0.73398, 2.2, 2.2]"
      ]
     },
     "execution_count": 69,
     "metadata": {},
     "output_type": "execute_result"
    }
   ],
   "source": [
    "nrs = nroots(f1, n=5) # численные корни \n",
    "nrs"
   ]
  },
  {
   "cell_type": "code",
   "execution_count": 70,
   "metadata": {},
   "outputs": [
    {
     "data": {
      "image/png": "[encoded data removed]",
      "text/latex": [
       "$$72 \\left(2 x + 5\\right)^{2} \\left(5 x - 11\\right)^{3} + 30 \\left(2 x + 5\\right)^{2} \\left(5 x - 11\\right)^{2} \\left(72 x + 48\\right) + \\left(2 x + 5\\right)^{2} \\left(6 x + 4\\right)^{2} \\left(750 x - 1650\\right) + 8 \\left(5 x - 11\\right)^{3} \\left(6 x + 4\\right)^{2} + 2 \\left(5 x - 11\\right)^{3} \\left(8 x + 20\\right) \\left(72 x + 48\\right) + 30 \\left(5 x - 11\\right)^{2} \\left(6 x + 4\\right)^{2} \\left(8 x + 20\\right)$$"
      ],
      "text/plain": [
       "            2           3               2           2                        2\n",
       "72⋅(2⋅x + 5) ⋅(5⋅x - 11)  + 30⋅(2⋅x + 5) ⋅(5⋅x - 11) ⋅(72⋅x + 48) + (2⋅x + 5) \n",
       "\n",
       "          2                              3          2               3         \n",
       "⋅(6⋅x + 4) ⋅(750⋅x - 1650) + 8⋅(5⋅x - 11) ⋅(6⋅x + 4)  + 2⋅(5⋅x - 11) ⋅(8⋅x + 2\n",
       "\n",
       "                              2          2           \n",
       "0)⋅(72⋅x + 48) + 30⋅(5⋅x - 11) ⋅(6⋅x + 4) ⋅(8⋅x + 20)"
      ]
     },
     "execution_count": 70,
     "metadata": {},
     "output_type": "execute_result"
    }
   ],
   "source": [
    "f2 = diff(f1,x)\n",
    "f2"
   ]
  },
  {
   "cell_type": "code",
   "execution_count": 71,
   "metadata": {},
   "outputs": [
    {
     "data": {
      "image/png": "[encoded data removed]",
      "text/latex": [
       "$$-264088$$"
      ],
      "text/plain": [
       "-264088"
      ]
     },
     "execution_count": 71,
     "metadata": {},
     "output_type": "execute_result"
    }
   ],
   "source": [
    "f2.subs(x,0) #=0 значение функции в точке"
   ]
  },
  {
   "cell_type": "code",
   "execution_count": 72,
   "metadata": {},
   "outputs": [
    {
     "data": {
      "image/png": "[encoded data removed]",
      "text/latex": [
       "$$\\left [ -1.2563 \\cdot 10^{7}, \\quad 3.9447 \\cdot 10^{6}, \\quad -2.8505 \\cdot 10^{6}, \\quad 3.0331 \\cdot 10^{6}, \\quad 0, \\quad 0\\right ]$$"
      ],
      "text/plain": [
       "[-1.2563e+7, 3.9447e+6, -2.8505e+6, 3.0331e+6, 0, 0]"
      ]
     },
     "execution_count": 72,
     "metadata": {},
     "output_type": "execute_result"
    }
   ],
   "source": [
    "[f2.subs(x,i) for i in nrs] #вывод списка корней"
   ]
  },
  {
   "cell_type": "code",
   "execution_count": 73,
   "metadata": {},
   "outputs": [
    {
     "data": {
      "image/png": "[encoded data removed]",
      "text/latex": [
       "$$\\left [ 1, \\quad 4, \\quad 9, \\quad 16, \\quad 25, \\quad 36, \\quad 49, \\quad 64, \\quad 81, \\quad 100\\right ]$$"
      ],
      "text/plain": [
       "[1, 4, 9, 16, 25, 36, 49, 64, 81, 100]"
      ]
     },
     "execution_count": 73,
     "metadata": {},
     "output_type": "execute_result"
    }
   ],
   "source": [
    "[y**2 for y in range(1,11)] #получили список квадратов"
   ]
  },
  {
   "cell_type": "code",
   "execution_count": 74,
   "metadata": {},
   "outputs": [
    {
     "data": {
      "image/png": "[encoded data removed]",
      "text/latex": [
       "$$\\left [ 1, \\quad 2, \\quad 3, \\quad 4, \\quad 5, \\quad 6, \\quad 7, \\quad 8, \\quad 9, \\quad 10\\right ]$$"
      ],
      "text/plain": [
       "[1, 2, 3, 4, 5, 6, 7, 8, 9, 10]"
      ]
     },
     "execution_count": 74,
     "metadata": {},
     "output_type": "execute_result"
    }
   ],
   "source": [
    "ls = []\n",
    "for y in range(1,11):\n",
    "    ls.append(y**1)\n",
    "ls\n"
   ]
  },
  {
   "cell_type": "code",
   "execution_count": 75,
   "metadata": {},
   "outputs": [
    {
     "data": {
      "image/png": "[encoded data removed]",
      "text/latex": [
       "$$\\left [ 1, \\quad 4, \\quad 9, \\quad 16, \\quad 25, \\quad 36, \\quad 49, \\quad 64, \\quad 81, \\quad 100\\right ]$$"
      ],
      "text/plain": [
       "[1, 4, 9, 16, 25, 36, 49, 64, 81, 100]"
      ]
     },
     "execution_count": 75,
     "metadata": {},
     "output_type": "execute_result"
    }
   ],
   "source": [
    "#список занчений вторых производных\n",
    "ls = [y**2 for y in range(1,11)]\n",
    "ls"
   ]
  },
  {
   "cell_type": "code",
   "execution_count": 76,
   "metadata": {},
   "outputs": [
    {
     "name": "stdout",
     "output_type": "stream",
     "text": [
      "f2(-1.7387) = 3.9447E+6\n",
      "f2(0.73398) = 3.0331E+6\n"
     ]
    }
   ],
   "source": [
    "#с помощью цикла приравниваем критические точкти к 0 \n",
    "for y in nrs:\n",
    "   if f2.subs(x,y)>0:\n",
    "       print (f\"f2({y}) = {f2.subs(x,y)}\") \n",
    "       "
   ]
  },
  {
   "cell_type": "code",
   "execution_count": 77,
   "metadata": {},
   "outputs": [
    {
     "data": {
      "image/png": "[encoded data removed]",
      "text/latex": [
       "$$\\left [ -1.2563 \\cdot 10^{7}, \\quad 3.9447 \\cdot 10^{6}, \\quad -2.8505 \\cdot 10^{6}, \\quad 3.0331 \\cdot 10^{6}, \\quad 0, \\quad 0\\right ]$$"
      ],
      "text/plain": [
       "[-1.2563e+7, 3.9447e+6, -2.8505e+6, 3.0331e+6, 0, 0]"
      ]
     },
     "execution_count": 77,
     "metadata": {},
     "output_type": "execute_result"
    }
   ],
   "source": [
    "[f2.subs(x,y) for y in nrs]"
   ]
  }
 ],
 "metadata": {
  "kernelspec": {
   "display_name": "Python 3",
   "language": "python",
   "name": "python3"
  },
  "language_info": {
   "codemirror_mode": {
    "name": "ipython",
    "version": 3
   },
   "file_extension": ".py",
   "mimetype": "text/x-python",
   "name": "python",
   "nbconvert_exporter": "python",
   "pygments_lexer": "ipython3",
   "version": "3.7.0"
  }
 },
 "nbformat": 4,
 "nbformat_minor": 2
}
