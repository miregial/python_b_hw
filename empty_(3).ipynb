{
 "cells": [
  {
   "cell_type": "code",
   "execution_count": null,
   "metadata": {},
   "outputs": [],
   "source": [
    "#Примеры рекурсивных функций и рекурсивных программ/ Вычисление факториала:\n",
    "def fact(n):\n",
    "    return 1 if n == 0 else n*fact(n - 1)\n",
    "\n",
    "\n",
    "n = int(input(\"n -> \"))\n",
    "print(f\"{n}! = {fact(n)}\")"
   ]
  },
  {
   "cell_type": "code",
   "execution_count": null,
   "metadata": {},
   "outputs": [],
   "source": [
    "#Нахождение чисел Фибоначчи:\n",
    "def fib(n):\n",
    "    return n if n < 2 else fib(n - 1) + fib(n - 2)\n",
    "\n",
    "\n",
    "n = int(input(\"n -> \"))\n",
    "print(f\"fib({n}) = {fib(n)}\")"
   ]
  },
  {
   "cell_type": "code",
   "execution_count": null,
   "metadata": {},
   "outputs": [],
   "source": [
    "#количество входных данных сколь угодно велико. \n",
    "#нахождение суммы элементов последовательности.бесконечный цикл while True,\n",
    "#выход только в случае исключения (Exception) — завершения обрабатываемой последовательности\n",
    "#пустая строка - ошибка и выдаст конец\n",
    "s = 0\n",
    "try:\n",
    "    while True:\n",
    "        s += int(input(\"x -> \"))\n",
    "except(EOFError):\n",
    "    print(f\"\\n      s = {s}\")"
   ]
  },
  {
   "cell_type": "code",
   "execution_count": null,
   "metadata": {},
   "outputs": [],
   "source": [
    "s = 0\n",
    "try:\n",
    "    while True:\n",
    "        s += int(input(\"x -> \"))\n",
    "except(EOFError, ValueError):\n",
    "    print(f\"\\n      s = {s}\")"
   ]
  },
  {
   "cell_type": "code",
   "execution_count": null,
   "metadata": {},
   "outputs": [],
   "source": []
  },
  {
   "cell_type": "code",
   "execution_count": null,
   "metadata": {},
   "outputs": [],
   "source": []
  }
 ],
 "metadata": {
  "kernelspec": {
   "display_name": "Python 3",
   "language": "python",
   "name": "python3"
  },
  "language_info": {
   "codemirror_mode": {
    "name": "ipython",
    "version": 3
   },
   "file_extension": ".py",
   "mimetype": "text/x-python",
   "name": "python",
   "nbconvert_exporter": "python",
   "pygments_lexer": "ipython3",
   "version": "3.7.0"
  }
 },
 "nbformat": 4,
 "nbformat_minor": 2
}
