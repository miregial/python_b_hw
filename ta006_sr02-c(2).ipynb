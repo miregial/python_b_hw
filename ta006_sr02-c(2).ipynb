{
 "cells": [
  {
   "cell_type": "markdown",
   "metadata": {},
   "source": [
    "# Продолжение работы с библиотекой SymPy"
   ]
  },
  {
   "cell_type": "markdown",
   "metadata": {},
   "source": [
    "### Самостоятельная работа"
   ]
  },
  {
   "cell_type": "markdown",
   "metadata": {},
   "source": [
    "### Тулеубаева Айгерим  (ta006), группа: Б18-702"
   ]
  },
  {
   "cell_type": "markdown",
   "metadata": {},
   "source": [
    "**Выполните указанные ниже действия, сохраните свою работу в виде ipynb-файла с именем `ta006_sr02-c.ipynb` и прикрепите этот файл к сообщению своему преподавателю**."
   ]
  },
  {
   "cell_type": "markdown",
   "metadata": {},
   "source": [
    "**Задание 1.** Найдите площадь параллелограмма, построенного на векторах $\\vec{u} = (-806,-895,1007)$ и $\\vec{v} = (-925,-905,-864)$ с четырьмя значащими цифрами.\n",
    "Завершите решение созданием (вручную) ячейки типа `Markdown`,\n",
    "в которой полученному ответу предшествует текст «Ответ:»"
   ]
  },
  {
   "cell_type": "code",
   "execution_count": 39,
   "metadata": {},
   "outputs": [
    {
     "data": {
      "image/png": "[encoded data removed]",
      "text/latex": [
       "$$2.345 \\cdot 10^{6}$$"
      ],
      "text/plain": [
       "2.345e+6"
      ]
     },
     "execution_count": 39,
     "metadata": {},
     "output_type": "execute_result"
    }
   ],
   "source": [
    "from sympy import *\n",
    "init_printing()\n",
    "u=Matrix([[-806, -895, 1007]])\n",
    "v=Matrix([[-925, -905, -864]])\n",
    "s= u.cross(v)\n",
    "s1= abs(((sqrt(((1684615)**2+(-1627859)**2+(-98445)**2)))).evalf(4))\n",
    "round(s1)\n",
    "s1"
   ]
  },
  {
   "cell_type": "markdown",
   "metadata": {},
   "source": [
    "$Ответ:2.345 * 10^6$"
   ]
  },
  {
   "cell_type": "markdown",
   "metadata": {},
   "source": [
    "**Задание 2.** Найдите величину угла в радианах между прямыми $\\displaystyle l_1\\colon \\left\\{\\begin{array}{l}\n",
    "x(t) = -789t + 1278\\\\\n",
    "y(t)=1249t - 705\\\\\n",
    "z(t)=-772t + 884\n",
    "\\end{array}\\right.$ и $\\displaystyle l_2\\colon \\left\\{\\begin{array}{l}\n",
    "x(t) = 1095t - 723\\\\\n",
    "y(t)=-849t + 1269\\\\\n",
    "z(t)=1290t + 898\n",
    "\\end{array}\\right.$ с точностью до $10^{-3}$."
   ]
  },
  {
   "cell_type": "code",
   "execution_count": 82,
   "metadata": {},
   "outputs": [
    {
     "data": {
      "image/png": "[encoded data removed]",
      "text/latex": [
       "$$0.345$$"
      ],
      "text/plain": [
       "0.345"
      ]
     },
     "execution_count": 82,
     "metadata": {},
     "output_type": "execute_result"
    }
   ],
   "source": [
    "a=Matrix([-789, 1249, -772])\n",
    "b=Matrix([1095, -849, 1090])\n",
    "round(acos(abs(a.dot(b)/(a.norm()*b.norm()))),3)"
   ]
  },
  {
   "cell_type": "markdown",
   "metadata": {},
   "source": [
    "**Задание 3.** Найдите точки невырожденного максимума производной функции $(2x+5)^2(3x-11)^2(7x+4)^2$ с шестью значащими цифрами.\n"
   ]
  },
  {
   "cell_type": "code",
   "execution_count": 49,
   "metadata": {},
   "outputs": [
    {
     "name": "stdout",
     "output_type": "stream",
     "text": [
      "-1.62289\n",
      "2.01972\n"
     ]
    }
   ],
   "source": [
    "from sympy import *\n",
    "init_printing()\n",
    "var ('x')\n",
    "f =((2*x+5)**2)*((3*x-11)**2)*((7*x+4)**2)\n",
    "f\n",
    "f1 = diff(f,x)\n",
    "f1\n",
    "nrs = nroots(f1, n=6 )\n",
    "nrs\n",
    "f2 = diff(f1,x)\n",
    "f2\n",
    "for y in nrs:\n",
    "   if f2.subs(x,y)<0:\n",
    "       print (N(y,6))"
   ]
  },
  {
   "cell_type": "code",
   "execution_count": null,
   "metadata": {},
   "outputs": [],
   "source": []
  }
 ],
 "metadata": {
  "kernelspec": {
   "display_name": "Python 3",
   "language": "python",
   "name": "python3"
  },
  "language_info": {
   "codemirror_mode": {
    "name": "ipython",
    "version": 3
   },
   "file_extension": ".py",
   "mimetype": "text/x-python",
   "name": "python",
   "nbconvert_exporter": "python",
   "pygments_lexer": "ipython3",
   "version": "3.7.0"
  }
 },
 "nbformat": 4,
 "nbformat_minor": 2
}
