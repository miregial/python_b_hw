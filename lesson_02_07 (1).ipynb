{
 "cells": [
  {
   "cell_type": "markdown",
   "metadata": {},
   "source": [
    "#### Объекты в Python\n",
    "\n",
    "В Python всё — булевы значения, целые числа, числа с плавающей точкой, строки\n",
    "и даже крупные структуры данных, функции и программы — реализовано как объект. \n",
    "Объект похож на прозрачный пластиковый ящик, который содержит фрагмент\n",
    "данных. Любой объект имеет тип:"
   ]
  },
  {
   "cell_type": "code",
   "execution_count": 1,
   "metadata": {},
   "outputs": [
    {
     "data": {
      "text/plain": [
       "int"
      ]
     },
     "execution_count": 1,
     "metadata": {},
     "output_type": "execute_result"
    }
   ],
   "source": [
    "type(15)"
   ]
  },
  {
   "cell_type": "markdown",
   "metadata": {},
   "source": [
    "#### Операции с целыми числами"
   ]
  },
  {
   "cell_type": "code",
   "execution_count": 2,
   "metadata": {},
   "outputs": [
    {
     "data": {
      "text/plain": [
       "7"
      ]
     },
     "execution_count": 2,
     "metadata": {},
     "output_type": "execute_result"
    }
   ],
   "source": [
    "5+2"
   ]
  },
  {
   "cell_type": "code",
   "execution_count": 3,
   "metadata": {},
   "outputs": [
    {
     "data": {
      "text/plain": [
       "3.3333333333333335"
      ]
     },
     "execution_count": 3,
     "metadata": {},
     "output_type": "execute_result"
    }
   ],
   "source": [
    "10/3"
   ]
  },
  {
   "cell_type": "code",
   "execution_count": 4,
   "metadata": {},
   "outputs": [
    {
     "data": {
      "text/plain": [
       "3"
      ]
     },
     "execution_count": 4,
     "metadata": {},
     "output_type": "execute_result"
    }
   ],
   "source": [
    "10//3"
   ]
  },
  {
   "cell_type": "code",
   "execution_count": 5,
   "metadata": {},
   "outputs": [
    {
     "data": {
      "text/plain": [
       "1"
      ]
     },
     "execution_count": 5,
     "metadata": {},
     "output_type": "execute_result"
    }
   ],
   "source": [
    "10%3"
   ]
  },
  {
   "cell_type": "code",
   "execution_count": 6,
   "metadata": {},
   "outputs": [
    {
     "data": {
      "text/plain": [
       "9765625"
      ]
     },
     "execution_count": 6,
     "metadata": {},
     "output_type": "execute_result"
    }
   ],
   "source": [
    "5**10"
   ]
  },
  {
   "cell_type": "markdown",
   "metadata": {},
   "source": [
    "#### Приоритет арифметических операций"
   ]
  },
  {
   "cell_type": "code",
   "execution_count": 7,
   "metadata": {},
   "outputs": [
    {
     "data": {
      "text/plain": [
       "23"
      ]
     },
     "execution_count": 7,
     "metadata": {},
     "output_type": "execute_result"
    }
   ],
   "source": [
    "3 + 5 * 4"
   ]
  },
  {
   "cell_type": "code",
   "execution_count": 8,
   "metadata": {},
   "outputs": [
    {
     "data": {
      "text/plain": [
       "32"
      ]
     },
     "execution_count": 8,
     "metadata": {},
     "output_type": "execute_result"
    }
   ],
   "source": [
    "(3+5)*4"
   ]
  },
  {
   "cell_type": "code",
   "execution_count": 9,
   "metadata": {},
   "outputs": [
    {
     "data": {
      "text/plain": [
       "-42"
      ]
     },
     "execution_count": 9,
     "metadata": {},
     "output_type": "execute_result"
    }
   ],
   "source": [
    "-(42)"
   ]
  },
  {
   "cell_type": "code",
   "execution_count": 10,
   "metadata": {},
   "outputs": [
    {
     "data": {
      "text/plain": [
       "34"
      ]
     },
     "execution_count": 10,
     "metadata": {},
     "output_type": "execute_result"
    }
   ],
   "source": [
    "+(34)"
   ]
  },
  {
   "cell_type": "markdown",
   "metadata": {},
   "source": [
    "#### Сообщения об ошибках"
   ]
  },
  {
   "cell_type": "code",
   "execution_count": 11,
   "metadata": {},
   "outputs": [
    {
     "data": {
      "text/plain": [
       "-15"
      ]
     },
     "execution_count": 11,
     "metadata": {},
     "output_type": "execute_result"
    }
   ],
   "source": [
    "-+15"
   ]
  },
  {
   "cell_type": "code",
   "execution_count": 12,
   "metadata": {},
   "outputs": [
    {
     "ename": "SyntaxError",
     "evalue": "invalid syntax (<ipython-input-12-e4a6618cb623>, line 1)",
     "output_type": "error",
     "traceback": [
      "\u001b[0;36m  File \u001b[0;32m\"<ipython-input-12-e4a6618cb623>\"\u001b[0;36m, line \u001b[0;32m1\u001b[0m\n\u001b[0;31m    -*15\u001b[0m\n\u001b[0m     ^\u001b[0m\n\u001b[0;31mSyntaxError\u001b[0m\u001b[0;31m:\u001b[0m invalid syntax\n"
     ]
    }
   ],
   "source": [
    "-*15"
   ]
  },
  {
   "cell_type": "code",
   "execution_count": null,
   "metadata": {},
   "outputs": [],
   "source": [
    "*15"
   ]
  },
  {
   "cell_type": "code",
   "execution_count": null,
   "metadata": {},
   "outputs": [],
   "source": [
    "5//0"
   ]
  },
  {
   "cell_type": "markdown",
   "metadata": {},
   "source": [
    "#### Числа с плавающей точкой"
   ]
  },
  {
   "cell_type": "code",
   "execution_count": null,
   "metadata": {},
   "outputs": [],
   "source": [
    "type(15.5)"
   ]
  },
  {
   "cell_type": "code",
   "execution_count": null,
   "metadata": {},
   "outputs": [],
   "source": [
    "1/3"
   ]
  },
  {
   "cell_type": "code",
   "execution_count": null,
   "metadata": {},
   "outputs": [],
   "source": [
    "0.3 + 0.3 + 0.3"
   ]
  },
  {
   "cell_type": "code",
   "execution_count": null,
   "metadata": {},
   "outputs": [],
   "source": [
    "5**0.5"
   ]
  },
  {
   "cell_type": "code",
   "execution_count": 13,
   "metadata": {},
   "outputs": [
    {
     "data": {
      "text/plain": [
       "0.5"
      ]
     },
     "execution_count": 13,
     "metadata": {},
     "output_type": "execute_result"
    }
   ],
   "source": [
    "5e-1"
   ]
  },
  {
   "cell_type": "markdown",
   "metadata": {},
   "source": [
    "#### Математические функции"
   ]
  },
  {
   "cell_type": "code",
   "execution_count": 14,
   "metadata": {},
   "outputs": [
    {
     "data": {
      "text/plain": [
       "-1.0"
      ]
     },
     "execution_count": 14,
     "metadata": {},
     "output_type": "execute_result"
    }
   ],
   "source": [
    "from math import * \n",
    "pi\n",
    "cos(pi)"
   ]
  },
  {
   "cell_type": "code",
   "execution_count": 15,
   "metadata": {},
   "outputs": [
    {
     "data": {
      "text/plain": [
       "5.000000000000001"
      ]
     },
     "execution_count": 15,
     "metadata": {},
     "output_type": "execute_result"
    }
   ],
   "source": [
    "sqrt(5)**2"
   ]
  },
  {
   "cell_type": "code",
   "execution_count": 16,
   "metadata": {},
   "outputs": [
    {
     "data": {
      "text/plain": [
       "1.0"
      ]
     },
     "execution_count": 16,
     "metadata": {},
     "output_type": "execute_result"
    }
   ],
   "source": [
    "e\n",
    "log(e)"
   ]
  },
  {
   "cell_type": "markdown",
   "metadata": {},
   "source": [
    "#### Задание 1\n",
    "Основное тригонометрическое тождество гласит, что \n",
    "$\\sin^2 x+\\cos^2 x = 1$.\n",
    "\n",
    "Вычислите и сравните значение $\\cos x$ и $\\sqrt{1-\\sin^2 x}$ для $ x= 0, \\pi/4, \\pi/3, \\pi/2, \\pi$. "
   ]
  },
  {
   "cell_type": "code",
   "execution_count": 17,
   "metadata": {},
   "outputs": [
    {
     "name": "stdout",
     "output_type": "stream",
     "text": [
      "1.5707963267948966\n"
     ]
    }
   ],
   "source": [
    "x = pi/2\n",
    "print(x, sep='\\n')"
   ]
  },
  {
   "cell_type": "code",
   "execution_count": 18,
   "metadata": {},
   "outputs": [
    {
     "name": "stdout",
     "output_type": "stream",
     "text": [
      "x =  0\n",
      "cosx = =  1.0\n",
      "sqrt(1-sin^2(x)) =  1.0\n",
      "0 1.0 1.0\n"
     ]
    }
   ],
   "source": [
    "x = 0\n",
    "a = cos(x)\n",
    "c=(sin(x)**2)\n",
    "d=1-c\n",
    "b = sqrt(d)\n",
    "print(\"x = \",x )\n",
    "print(\"cosx = = \",a )\n",
    "print(\"sqrt(1-sin^2(x)) = \",b )\n",
    "print(x, a, b)"
   ]
  },
  {
   "cell_type": "code",
   "execution_count": 19,
   "metadata": {},
   "outputs": [
    {
     "name": "stdout",
     "output_type": "stream",
     "text": [
      "x =  0.7853981633974483\n",
      "cosx = =  0.7071067811865476\n",
      "sqrt(1-sin^2(x)) =  0.7071067811865476\n",
      "0.7853981633974483 0.7071067811865476 0.7071067811865476\n"
     ]
    }
   ],
   "source": [
    "x = pi/4\n",
    "a = cos(x)\n",
    "c=(sin(x)**2)\n",
    "d=1-c\n",
    "b = sqrt(d)\n",
    "print(\"x = \",x )\n",
    "print(\"cosx = = \",a )\n",
    "print(\"sqrt(1-sin^2(x)) = \",b )\n",
    "print(x, a, b)"
   ]
  },
  {
   "cell_type": "code",
   "execution_count": 20,
   "metadata": {},
   "outputs": [
    {
     "name": "stdout",
     "output_type": "stream",
     "text": [
      "x =  1.0471975511965976\n",
      "cosx = =  0.5000000000000001\n",
      "sqrt(1-sin^2(x)) =  0.5000000000000001\n",
      "1.0471975511965976 0.5000000000000001 0.5000000000000001\n"
     ]
    }
   ],
   "source": [
    "x = pi/3\n",
    "a = cos(x)\n",
    "c=(sin(x)**2)\n",
    "d=1-c\n",
    "b = sqrt(d)\n",
    "print(\"x = \",x )\n",
    "print(\"cosx = = \",a )\n",
    "print(\"sqrt(1-sin^2(x)) = \",b )\n",
    "print(x, a, b)"
   ]
  },
  {
   "cell_type": "code",
   "execution_count": 21,
   "metadata": {},
   "outputs": [
    {
     "name": "stdout",
     "output_type": "stream",
     "text": [
      "x =  1.5707963267948966\n",
      "cosx = =  6.123233995736766e-17\n",
      "sqrt(1-sin^2(x)) =  0.0\n",
      "1.5707963267948966 6.123233995736766e-17 0.0\n"
     ]
    }
   ],
   "source": [
    "x = pi/2\n",
    "a = cos(x)\n",
    "c=(sin(x)**2)\n",
    "d=1-c\n",
    "b = sqrt(d)\n",
    "print(\"x = \",x )\n",
    "print(\"cosx = = \",a )\n",
    "print(\"sqrt(1-sin^2(x)) = \",b )\n",
    "print(x, a, b)"
   ]
  },
  {
   "cell_type": "code",
   "execution_count": 22,
   "metadata": {},
   "outputs": [
    {
     "name": "stdout",
     "output_type": "stream",
     "text": [
      "x =  3.141592653589793\n",
      "cosx = =  -1.0\n",
      "sqrt(1-sin^2(x)) =  1.0\n",
      "3.141592653589793 -1.0 1.0\n"
     ]
    }
   ],
   "source": [
    "x = pi\n",
    "a = cos(x)\n",
    "c=(sin(x)**2)\n",
    "d=1-c\n",
    "b = sqrt(d)\n",
    "print(\"x = \",x )\n",
    "print(\"cosx = = \",a )\n",
    "print(\"sqrt(1-sin^2(x)) = \",b )\n",
    "print(x, a, b)"
   ]
  },
  {
   "cell_type": "markdown",
   "metadata": {},
   "source": [
    "#### Переменные\n",
    "\n",
    "В Python переменные — это просто имена. Присваивание прикрепляет имя к объекту, который содержит данные. \n",
    "Имя — это ссылка на какой-то объект, а не сам объект. Имя можно рассматривать как стикер (наклейку).\n",
    "\n",
    "В Python символ `=` применяется для присваивания значения переменной.\n",
    "\n",
    "\n",
    "Имена переменных могут содержать только следующие символы:\n",
    "- буквы в нижнем регистре (от «a» до «z»);\n",
    "- буквы в верхнем регистре (от «A» до «Z»);\n",
    "- цифры (от 0 до 9);\n",
    "- нижнее подчеркивание (`_`).\n",
    "Имена не могут начинаться с цифры. Python также особо обрабатывает имена,\n",
    "которые начинаются с нижнего подчеркивания (`_`).\n",
    "\n",
    "Не следует использовать следующие слова для имен переменных, поскольку они являются зарезервированными словами Python:\n",
    "false, class, finally, is, return,\n",
    "none, continue, for, lambda, try,\n",
    "true, def, from, nonlocal, while,\n",
    "and, del, global, not, with,\n",
    "as, elif, if, or, yield,\n",
    "assert, else, import, pass, break, except, in, raise."
   ]
  },
  {
   "cell_type": "code",
   "execution_count": 23,
   "metadata": {},
   "outputs": [],
   "source": [
    "x = 3"
   ]
  },
  {
   "cell_type": "code",
   "execution_count": 24,
   "metadata": {},
   "outputs": [
    {
     "name": "stdout",
     "output_type": "stream",
     "text": [
      "3\n",
      "6\n"
     ]
    }
   ],
   "source": [
    "x+3\n",
    "print(x)\n",
    "print (x+3)\n",
    "    # выводится только последнее значение и только при работе в интерактивном режиме!"
   ]
  },
  {
   "cell_type": "code",
   "execution_count": 25,
   "metadata": {},
   "outputs": [
    {
     "data": {
      "text/plain": [
       "6"
      ]
     },
     "execution_count": 25,
     "metadata": {},
     "output_type": "execute_result"
    }
   ],
   "source": [
    "x = x+3\n",
    "x"
   ]
  },
  {
   "cell_type": "code",
   "execution_count": 26,
   "metadata": {},
   "outputs": [
    {
     "data": {
      "text/plain": [
       "9"
      ]
     },
     "execution_count": 26,
     "metadata": {},
     "output_type": "execute_result"
    }
   ],
   "source": [
    "x += 3\n",
    "x"
   ]
  },
  {
   "cell_type": "markdown",
   "metadata": {},
   "source": [
    "Для вывода значений в своих программах используйте функцию print(). Обратите внимание на наличие скобок при вызове функции `print`."
   ]
  },
  {
   "cell_type": "code",
   "execution_count": 27,
   "metadata": {},
   "outputs": [
    {
     "name": "stdout",
     "output_type": "stream",
     "text": [
      "9\n",
      "729\n"
     ]
    }
   ],
   "source": [
    "print(x)\n",
    "print(x**3)"
   ]
  },
  {
   "cell_type": "markdown",
   "metadata": {},
   "source": [
    "### Ввод данных"
   ]
  },
  {
   "cell_type": "code",
   "execution_count": 28,
   "metadata": {},
   "outputs": [
    {
     "name": "stdout",
     "output_type": "stream",
     "text": [
      "Enter your name: ai\n",
      "Hello,  ai\n"
     ]
    }
   ],
   "source": [
    "name = input('Enter your name: ')\n",
    "print('Hello, ', name)"
   ]
  },
  {
   "cell_type": "code",
   "execution_count": 30,
   "metadata": {},
   "outputs": [
    {
     "name": "stdout",
     "output_type": "stream",
     "text": [
      "2\n",
      "4\n"
     ]
    }
   ],
   "source": [
    "a = int(input())\n",
    "print(a * 2)"
   ]
  },
  {
   "cell_type": "code",
   "execution_count": 31,
   "metadata": {},
   "outputs": [
    {
     "name": "stdout",
     "output_type": "stream",
     "text": [
      "2\n",
      "3\n",
      "6\n"
     ]
    }
   ],
   "source": [
    "a = int(input())\n",
    "b = int(input())\n",
    "print(a * b)"
   ]
  },
  {
   "cell_type": "markdown",
   "metadata": {},
   "source": [
    "#### Задание 2\n",
    "Напишите программу, которая\n",
    " - запрашивает два числа: длины катетов прямоугольного треугольника, \n",
    " - печатает периметр треугольника.  "
   ]
  },
  {
   "cell_type": "code",
   "execution_count": 32,
   "metadata": {},
   "outputs": [
    {
     "name": "stdout",
     "output_type": "stream",
     "text": [
      "a = 3\n",
      "b = 4\n",
      "5.0\n",
      "12.0\n"
     ]
    }
   ],
   "source": [
    "a=int(input('a = '))\n",
    "b=int(input('b = '))\n",
    "c=sqrt(a**2+b**2)\n",
    "print(c)\n",
    "print(a+b+c)"
   ]
  },
  {
   "cell_type": "markdown",
   "metadata": {},
   "source": [
    "### Логические операции"
   ]
  },
  {
   "cell_type": "code",
   "execution_count": 33,
   "metadata": {},
   "outputs": [
    {
     "name": "stdout",
     "output_type": "stream",
     "text": [
      "6\n",
      "True\n"
     ]
    }
   ],
   "source": [
    "a = int(input())\n",
    "print(a > 0)"
   ]
  },
  {
   "cell_type": "code",
   "execution_count": 34,
   "metadata": {},
   "outputs": [
    {
     "name": "stdout",
     "output_type": "stream",
     "text": [
      "52\n",
      "True\n"
     ]
    }
   ],
   "source": [
    "a = int(input())\n",
    "print(a >= 10 and a < 100)"
   ]
  },
  {
   "cell_type": "code",
   "execution_count": 35,
   "metadata": {},
   "outputs": [
    {
     "data": {
      "text/plain": [
       "True"
      ]
     },
     "execution_count": 35,
     "metadata": {},
     "output_type": "execute_result"
    }
   ],
   "source": [
    "a, b, c = False, True, False\n",
    "not a or b and c"
   ]
  },
  {
   "cell_type": "markdown",
   "metadata": {},
   "source": [
    "Добавляя скобки в выражения, можно изменить порядок вычисления и значение результирующего выражения. Если не уверены в приоритете операций, смело добавляйте скобки, чтобы быть уверенными в том, что выражение вычисляется именно так, как вы хотите."
   ]
  },
  {
   "cell_type": "code",
   "execution_count": 36,
   "metadata": {},
   "outputs": [
    {
     "data": {
      "text/plain": [
       "False"
      ]
     },
     "execution_count": 36,
     "metadata": {},
     "output_type": "execute_result"
    }
   ],
   "source": [
    "(not (a or b)) and c"
   ]
  },
  {
   "cell_type": "markdown",
   "metadata": {},
   "source": [
    "#### Домашнее задание\n",
    "\n",
    "##### Задача\n",
    "В то далёкое время, когда Паша ходил в школу, ему очень не нравилась формула Герона для вычисления площади треугольника, так как казалась слишком сложной. В один прекрасный момент Павел решил избавить всех школьников от страданий и написать и распространить по школам программу, вычисляющую площадь треугольника по трём сторонам.\n",
    "\n",
    "Одна проблема: так как эта формула не нравилась Павлу, он её не запомнил. Помогите ему завершить доброе дело и напишите программу, вычисляющую площадь треугольника по переданным длинам трёх его сторон по формуле Герона:\n",
    "$S=\\sqrt{p(p−a)(p−b)(p−c)}$, \n",
    "где $p=(a+b+c)/2$ – полупериметр треугольника. На вход программе подаются целые числа, выводом программы должно являться вещественное число, соответствующее площади треугольника.\n",
    "\n",
    "Sample Input:\n",
    "\n",
    "    3\n",
    "    4\n",
    "    5\n",
    "\n",
    "Sample Output:\n",
    "\n",
    "    6.0\n",
    "\n"
   ]
  },
  {
   "cell_type": "markdown",
   "metadata": {},
   "source": [
    "---------------------------------\n",
    "\n",
    "### Литература\n",
    "\n",
    "- Любанович Билл «Простой Python. Современный стиль программирования». \n",
    "  Глава 2 «Ингредиенты Python: числа, строки и переменные», стр. 43-69"
   ]
  },
  {
   "cell_type": "code",
   "execution_count": 38,
   "metadata": {},
   "outputs": [
    {
     "name": "stdout",
     "output_type": "stream",
     "text": [
      "a=2\n",
      "b=3\n",
      "c=4\n",
      "2.9047375096555625\n"
     ]
    }
   ],
   "source": [
    "a=int(input('a='))\n",
    "b=int(input('b='))\n",
    "c=int(input('c='))\n",
    "p=(a+b+c)/2\n",
    "s=sqrt(p*(p-a)*(p-b)*(p-c))\n",
    "print(s)"
   ]
  }
 ],
 "metadata": {
  "kernelspec": {
   "display_name": "Python 3",
   "language": "python",
   "name": "python3"
  },
  "language_info": {
   "codemirror_mode": {
    "name": "ipython",
    "version": 3
   },
   "file_extension": ".py",
   "mimetype": "text/x-python",
   "name": "python",
   "nbconvert_exporter": "python",
   "pygments_lexer": "ipython3",
   "version": "3.7.0"
  }
 },
 "nbformat": 4,
 "nbformat_minor": 2
}
