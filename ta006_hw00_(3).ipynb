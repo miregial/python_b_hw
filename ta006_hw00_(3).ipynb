{
 "cells": [
  {
   "cell_type": "markdown",
   "metadata": {},
   "source": [
    "# Знакомство с SymPy"
   ]
  },
  {
   "cell_type": "markdown",
   "metadata": {},
   "source": [
    "### Индивидуальное домашнее задание"
   ]
  },
  {
   "cell_type": "markdown",
   "metadata": {},
   "source": [
    "### Тулеубаева Айгерим  (ta006), группа: Б18-702"
   ]
  },
  {
   "cell_type": "markdown",
   "metadata": {},
   "source": [
    "**Выполните указанные ниже действия, сохраните свою работу в виде ipynb-файла с именем `ta006_hw00.ipynb` и прикрепите этот файл к сообщению своему преподавателю**."
   ]
  },
  {
   "cell_type": "markdown",
   "metadata": {},
   "source": [
    "**Задание 1.** Вычислите значение выражения $\\displaystyle\\ln\\left(\\frac{\\sqrt[3]{\\ln2}}{(3-e){(\\cos3 + 5)}^2}\\right)$ с точностью 40 значащих десятичных цифр."
   ]
  },
  {
   "cell_type": "code",
   "execution_count": 1,
   "metadata": {},
   "outputs": [
    {
     "data": {
      "image/png": "[encoded data removed]",
      "text/latex": [
       "$$-1.632909099036969083917765581825182136284$$"
      ],
      "text/plain": [
       "-1.632909099036969083917765581825182136284"
      ]
     },
     "execution_count": 1,
     "metadata": {},
     "output_type": "execute_result"
    }
   ],
   "source": [
    "from sympy import *\n",
    "init_printing()\n",
    "f = ln(((ln(2))**(1/3))/((3-E)*(cos(3)+5)**2))\n",
    "#z1=S(f)/1; z1\n",
    "#z2=z1.n(40); z2 # вычисляет переменную z2 с точностью до 40 значащих цифр\n",
    "f.evalf(40) "
   ]
  },
  {
   "cell_type": "markdown",
   "metadata": {},
   "source": [
    "**Задание 2.** Раскройте скобки в выражении $\\left(u + z\\right)^{2} \\left(x - 2 y\\right)^{3} \\left(x + 2 y\\right)^{3}$."
   ]
  },
  {
   "cell_type": "code",
   "execution_count": 2,
   "metadata": {},
   "outputs": [
    {
     "data": {
      "image/png": "[encoded data removed]",
      "text/latex": [
       "$$u^{2} x^{6} - 12 u^{2} x^{4} y^{2} + 48 u^{2} x^{2} y^{4} - 64 u^{2} y^{6} + 2 u x^{6} z - 24 u x^{4} y^{2} z + 96 u x^{2} y^{4} z - 128 u y^{6} z + x^{6} z^{2} - 12 x^{4} y^{2} z^{2} + 48 x^{2} y^{4} z^{2} - 64 y^{6} z^{2}$$"
      ],
      "text/plain": [
       " 2  6       2  4  2       2  2  4       2  6        6           4  2          \n",
       "u ⋅x  - 12⋅u ⋅x ⋅y  + 48⋅u ⋅x ⋅y  - 64⋅u ⋅y  + 2⋅u⋅x ⋅z - 24⋅u⋅x ⋅y ⋅z + 96⋅u⋅\n",
       "\n",
       " 2  4            6      6  2       4  2  2       2  4  2       6  2\n",
       "x ⋅y ⋅z - 128⋅u⋅y ⋅z + x ⋅z  - 12⋅x ⋅y ⋅z  + 48⋅x ⋅y ⋅z  - 64⋅y ⋅z "
      ]
     },
     "execution_count": 2,
     "metadata": {},
     "output_type": "execute_result"
    }
   ],
   "source": [
    "from sympy import *\n",
    "init_printing()\n",
    "var ('u,z,x,y')\n",
    "f=((u+z)**2)*((x-2*y)**3)*((x+2*y)**3)\n",
    "expand(f)"
   ]
  },
  {
   "cell_type": "markdown",
   "metadata": {},
   "source": [
    "**Задание 3.** Разложите на множители многочлен $4 u^{2} x z^{2} - 12 u^{2} x z + 9 u^{2} x - 8 u^{2} y z^{2} + 24 u^{2} y z - 18 u^{2} y + 8 u x z^{3} - 24 u x z^{2} + 18 u x z - 16 u y z^{3} + 48 u y z^{2} - 36 u y z + 4 x z^{4} - 12 x z^{3} + 9 x z^{2} - 8 y z^{4} + 24 y z^{3} - 18 y z^{2}$."
   ]
  },
  {
   "cell_type": "code",
   "execution_count": 3,
   "metadata": {},
   "outputs": [
    {
     "data": {
      "image/png": "[encoded data removed]",
      "text/latex": [
       "$$\\left(u + z\\right)^{2} \\left(x - 2 y\\right) \\left(2 z - 3\\right)^{2}$$"
      ],
      "text/plain": [
       "       2                    2\n",
       "(u + z) ⋅(x - 2⋅y)⋅(2⋅z - 3) "
      ]
     },
     "execution_count": 3,
     "metadata": {},
     "output_type": "execute_result"
    }
   ],
   "source": [
    "var('u,x,z,y')\n",
    "f  =  (4*u**2*x*z**2)-(12*u**2*x*z)+(9*u**2*x)-(8*u**2*y*z**2)+(24*u**2*y*z)-(18*u**2*y)+(8*u*x*z**3)-24*u*x*z**2+18*u*x*z-16*u*y*z**3+48*y*u*z**2-36*u*y*z+4*x*z**4-12*x*z**3+9*x*z**2-8*y*z**4+24*y*z**3-18*y*z**2\n",
    "factor(f)"
   ]
  },
  {
   "cell_type": "markdown",
   "metadata": {},
   "source": [
    "**Задание 4.** Найдите действительные корни уравнения $9 x^{4} + 21 x^{3} + 4 x^{2} - 94 x - 336 = 0$."
   ]
  },
  {
   "cell_type": "code",
   "execution_count": 4,
   "metadata": {},
   "outputs": [
    {
     "data": {
      "image/png": "[encoded data removed]",
      "text/latex": [
       "$$\\left [ - \\frac{8}{3}, \\quad \\frac{7}{3}\\right ]$$"
      ],
      "text/plain": [
       "[-8/3, 7/3]"
      ]
     },
     "execution_count": 4,
     "metadata": {},
     "output_type": "execute_result"
    }
   ],
   "source": [
    "from sympy import *\n",
    "x = symbols('x', real=True)\n",
    "solve(9*x**4+21*x**3+4*x**2-94*x-336)"
   ]
  },
  {
   "cell_type": "markdown",
   "metadata": {},
   "source": [
    "**Задание 5.** Постройте график функции, заданной неявно: $4y^2-4x^2y-x^5=0$. Используйте одинаковый масштаб по координатным осям."
   ]
  },
  {
   "cell_type": "code",
   "execution_count": 33,
   "metadata": {},
   "outputs": [
    {
     "data": {
      "image/png": "[encoded data removed]",
      "text/plain": [
       "<Figure size 432x288 with 1 Axes>"
      ]
     },
     "metadata": {
      "needs_background": "light"
     },
     "output_type": "display_data"
    }
   ],
   "source": [
    "from sympy import *\n",
    "%matplotlib inline\n",
    "var('x y')\n",
    "(x, y)\n",
    "#plot_implicit(Eq(4*y**2-4*x**2*y-x**5, 0))\n",
    "#f=Eq(4*y**2-4*x**2*y-x**5, 0) \n",
    "p = plot_implicit(4*y**2-4*x**2*y-x**5)"
   ]
  },
  {
   "cell_type": "code",
   "execution_count": null,
   "metadata": {},
   "outputs": [],
   "source": []
  }
 ],
 "metadata": {
  "kernelspec": {
   "display_name": "Python 3",
   "language": "python",
   "name": "python3"
  },
  "language_info": {
   "codemirror_mode": {
    "name": "ipython",
    "version": 3
   },
   "file_extension": ".py",
   "mimetype": "text/x-python",
   "name": "python",
   "nbconvert_exporter": "python",
   "pygments_lexer": "ipython3",
   "version": "3.7.0"
  }
 },
 "nbformat": 4,
 "nbformat_minor": 2
}
