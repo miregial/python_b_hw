{
 "cells": [
  {
   "cell_type": "code",
   "execution_count": 1,
   "metadata": {},
   "outputs": [
    {
     "name": "stdout",
     "output_type": "stream",
     "text": [
      "aAb\n"
     ]
    }
   ],
   "source": [
    "print(\"abcdefgh\"[0] + \"ABCDEFGH\"[:1:2] + \"hgfedcba\"[-2:-1])"
   ]
  },
  {
   "cell_type": "code",
   "execution_count": 2,
   "metadata": {},
   "outputs": [
    {
     "data": {
      "text/plain": [
       "4"
      ]
     },
     "execution_count": 2,
     "metadata": {},
     "output_type": "execute_result"
    }
   ],
   "source": [
    "def f(a, b, c):\n",
    "    if True and a<=c:\n",
    "        d = 3 if not(c==c%b) and not(a%b==a) or c<=a else 4\n",
    "    elif a==b or True:\n",
    "        if c==a and not(a<=a//c):\n",
    "            d = 1\n",
    "        else:\n",
    "            d = 2\n",
    "    else:\n",
    "        d = 5\n",
    "    return d\n",
    "f(8,9,9)"
   ]
  },
  {
   "cell_type": "code",
   "execution_count": 3,
   "metadata": {},
   "outputs": [
    {
     "name": "stdout",
     "output_type": "stream",
     "text": [
      "[0]\n"
     ]
    }
   ],
   "source": [
    "lst = [9, 8, 7, 6, 5, 4, 3, 2, 1, 0]\n",
    "lst[:] = [0]\n",
    "print(lst[:1:2])"
   ]
  },
  {
   "cell_type": "code",
   "execution_count": 4,
   "metadata": {},
   "outputs": [
    {
     "name": "stdout",
     "output_type": "stream",
     "text": [
      "6abcdefh\n"
     ]
    }
   ],
   "source": [
    "print(\"87654321\"[2] + \"abcdefgh\"[:-2] + \"hgfedcba\"[:1:])"
   ]
  },
  {
   "cell_type": "code",
   "execution_count": 5,
   "metadata": {},
   "outputs": [
    {
     "data": {
      "text/plain": [
       "False"
      ]
     },
     "execution_count": 5,
     "metadata": {},
     "output_type": "execute_result"
    }
   ],
   "source": [
    "(0 or False) and True"
   ]
  },
  {
   "cell_type": "code",
   "execution_count": 6,
   "metadata": {},
   "outputs": [
    {
     "data": {
      "text/plain": [
       "4"
      ]
     },
     "execution_count": 6,
     "metadata": {},
     "output_type": "execute_result"
    }
   ],
   "source": [
    "def f(a, b, c):\n",
    "    if (c<=b or False) and True:\n",
    "        if not(a%c<=b%c and not(False)):\n",
    "            d = 1\n",
    "        else:\n",
    "            d = 2\n",
    "    elif False or c!=c//b:\n",
    "        d = 3 if a!=c or not(True) else 4\n",
    "    else:\n",
    "        d = 5\n",
    "    return d\n",
    "f(12,2,12)"
   ]
  },
  {
   "cell_type": "code",
   "execution_count": 23,
   "metadata": {},
   "outputs": [
    {
     "name": "stdout",
     "output_type": "stream",
     "text": [
      "3\n",
      "5\n",
      "7\n",
      "9\n",
      "11\n"
     ]
    }
   ],
   "source": [
    "for k in range(3, 12, 2):\n",
    "    print(k )\n",
    "   "
   ]
  },
  {
   "cell_type": "code",
   "execution_count": 11,
   "metadata": {},
   "outputs": [
    {
     "data": {
      "text/plain": [
       "4"
      ]
     },
     "execution_count": 11,
     "metadata": {},
     "output_type": "execute_result"
    }
   ],
   "source": [
    "s = 0\n",
    "for k in range(3, 13, 3):\n",
    "    if k == 11:\n",
    "        break\n",
    "    s += 1\n",
    "s"
   ]
  },
  {
   "cell_type": "code",
   "execution_count": 16,
   "metadata": {},
   "outputs": [
    {
     "data": {
      "text/plain": [
       "True"
      ]
     },
     "execution_count": 16,
     "metadata": {},
     "output_type": "execute_result"
    }
   ],
   "source": [
    "12==12"
   ]
  },
  {
   "cell_type": "code",
   "execution_count": 26,
   "metadata": {},
   "outputs": [
    {
     "data": {
      "text/plain": [
       "4"
      ]
     },
     "execution_count": 26,
     "metadata": {},
     "output_type": "execute_result"
    }
   ],
   "source": [
    "s = 0\n",
    "for k in range(3, 12, 2):\n",
    "    if k == 11:\n",
    "        break\n",
    "    s += 1\n",
    "s"
   ]
  },
  {
   "cell_type": "code",
   "execution_count": 29,
   "metadata": {},
   "outputs": [
    {
     "data": {
      "text/plain": [
       "3"
      ]
     },
     "execution_count": 29,
     "metadata": {},
     "output_type": "execute_result"
    }
   ],
   "source": [
    "s = 0\n",
    "for k in range(3, 11, 3):\n",
    "    if k == 10:\n",
    "        break\n",
    "    s += 1\n",
    "s"
   ]
  },
  {
   "cell_type": "code",
   "execution_count": 31,
   "metadata": {},
   "outputs": [
    {
     "name": "stdout",
     "output_type": "stream",
     "text": [
      "[9, 1, 8, 7, 6, 5, 4, 3, 2, 1, 0]\n"
     ]
    }
   ],
   "source": [
    "lst = [9, 8, 7, 6, 5, 4, 3, 2, 1, 0]\n",
    "lst[1:1] = [1]\n",
    "print(lst)\n",
    "#print(lst[4:2:-2])"
   ]
  },
  {
   "cell_type": "code",
   "execution_count": 32,
   "metadata": {},
   "outputs": [
    {
     "name": "stdout",
     "output_type": "stream",
     "text": [
      "[6]\n"
     ]
    }
   ],
   "source": [
    "lst = [9, 8, 7, 6, 5, 4, 3, 2, 1, 0]\n",
    "lst[1:1] = [1]\n",
    "print(lst[4:2:-2])"
   ]
  },
  {
   "cell_type": "code",
   "execution_count": 33,
   "metadata": {},
   "outputs": [
    {
     "name": "stdout",
     "output_type": "stream",
     "text": [
      "710\n"
     ]
    }
   ],
   "source": [
    "print(\"76543210\"[0] + \"01234567\"[1::-1] + \"12345678\"[:0:])"
   ]
  },
  {
   "cell_type": "code",
   "execution_count": 34,
   "metadata": {},
   "outputs": [
    {
     "name": "stdout",
     "output_type": "stream",
     "text": [
      "habcdef0123456\n"
     ]
    }
   ],
   "source": [
    "print(\"abcdefgh\"[-1] + \"hgfedcba\"[:1:-1] + \"01234567\"[0:-1])"
   ]
  },
  {
   "cell_type": "code",
   "execution_count": 35,
   "metadata": {},
   "outputs": [
    {
     "name": "stdout",
     "output_type": "stream",
     "text": [
      "[128, 256, 512]\n"
     ]
    }
   ],
   "source": [
    "lst = [1, 2, 4, 8, 16, 32, 64, 128, 256, 512]\n",
    "lst[1:1] = [512, 256, 128, 64, 32, 16, 8, 4]\n",
    "print(lst[3:0:-1])"
   ]
  },
  {
   "cell_type": "code",
   "execution_count": 36,
   "metadata": {},
   "outputs": [
    {
     "data": {
      "text/plain": [
       "4"
      ]
     },
     "execution_count": 36,
     "metadata": {},
     "output_type": "execute_result"
    }
   ],
   "source": [
    "def f(a, b, c):\n",
    "    if not(b!=c) or b!=b:\n",
    "        if c//b==b and not(b<=a):\n",
    "            d = 1\n",
    "        else:\n",
    "            d = 2\n",
    "    elif not(b!=a) or b>=b and b==c:\n",
    "        d = 3 if not(True and c<=c) else 4\n",
    "    else:\n",
    "        d = 5\n",
    "    return d\n",
    "f(6,6,9)"
   ]
  },
  {
   "cell_type": "code",
   "execution_count": 38,
   "metadata": {},
   "outputs": [
    {
     "data": {
      "text/plain": [
       "4"
      ]
     },
     "execution_count": 38,
     "metadata": {},
     "output_type": "execute_result"
    }
   ],
   "source": [
    "s = 0\n",
    "for k in range(5):\n",
    "    if k == 2:\n",
    "        continue\n",
    "    s += 1\n",
    "s"
   ]
  },
  {
   "cell_type": "code",
   "execution_count": 41,
   "metadata": {},
   "outputs": [
    {
     "name": "stdout",
     "output_type": "stream",
     "text": [
      "[256]\n"
     ]
    }
   ],
   "source": [
    "lst = [9, 8, 7, 6, 5, 4, 3, 2, 1, 0]\n",
    "lst[1:1] = [256]\n",
    "print(lst[1::-2])"
   ]
  },
  {
   "cell_type": "code",
   "execution_count": 43,
   "metadata": {},
   "outputs": [
    {
     "data": {
      "text/plain": [
       "15"
      ]
     },
     "execution_count": 43,
     "metadata": {},
     "output_type": "execute_result"
    }
   ],
   "source": [
    "s = 0\n",
    "for k in range(6):\n",
    "    s += k\n",
    "s"
   ]
  },
  {
   "cell_type": "code",
   "execution_count": 44,
   "metadata": {},
   "outputs": [
    {
     "data": {
      "text/plain": [
       "3"
      ]
     },
     "execution_count": 44,
     "metadata": {},
     "output_type": "execute_result"
    }
   ],
   "source": [
    "def f(a, b, c):\n",
    "    if not(False or a!=b//c):\n",
    "        if not(a%c==c and b%c<=a and c<=c):\n",
    "            d = 1\n",
    "        else:\n",
    "            d = 2\n",
    "    elif a%c>=c%a or c>=b:\n",
    "        d = 3 if not(c>=a//b or b==c) else 4\n",
    "    else:\n",
    "        d = 5\n",
    "    return d\n",
    "f(12,2,3)"
   ]
  },
  {
   "cell_type": "code",
   "execution_count": null,
   "metadata": {},
   "outputs": [],
   "source": []
  }
 ],
 "metadata": {
  "kernelspec": {
   "display_name": "Python 3",
   "language": "python",
   "name": "python3"
  },
  "language_info": {
   "codemirror_mode": {
    "name": "ipython",
    "version": 3
   },
   "file_extension": ".py",
   "mimetype": "text/x-python",
   "name": "python",
   "nbconvert_exporter": "python",
   "pygments_lexer": "ipython3",
   "version": "3.7.0"
  }
 },
 "nbformat": 4,
 "nbformat_minor": 2
}
