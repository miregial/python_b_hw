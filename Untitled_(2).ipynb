{
 "cells": [
  {
   "cell_type": "code",
   "execution_count": 14,
   "metadata": {},
   "outputs": [
    {
     "name": "stdout",
     "output_type": "stream",
     "text": [
      "n -> 5\n",
      "fib(5) = 5\n",
      "Количество вызовов = 15\n"
     ]
    }
   ],
   "source": [
    "#количество  вызовов\n",
    "count = 0\n",
    "def fib(n):\n",
    "    global count #видна глобальна вне этой функции и сохраняет значения между вызовами функции . не  юзают сейчас\n",
    "    count += 1\n",
    "    return n if n < 2 else fib(n - 1) + fib(n - 2)\n",
    "\n",
    "\n",
    "n = int(input(\"n -> \"))\n",
    "print(f\"fib({n}) = {fib(n)}\")\n",
    "print(f\"Количество вызовов = {count}\")"
   ]
  },
  {
   "cell_type": "code",
   "execution_count": 15,
   "metadata": {},
   "outputs": [
    {
     "name": "stdout",
     "output_type": "stream",
     "text": [
      "fib(1000) = 43466557686937456435688527675040625802564660517371780402481729089536555417949051890403879840079255169295922593080322634775209689623239873322471161642996440906533187938298969649928516003704476137795166849228875\n"
     ]
    }
   ],
   "source": [
    "#точное считание чисел фиб быстро и для больших чисел с помощью перемножения матриц\n",
    "def fib(n):\n",
    "    return _fib(n)[0]\n",
    "\n",
    "\n",
    "def _fib(n):\n",
    "    if n == 0:\n",
    "        return (0, 1)\n",
    "    else:\n",
    "        a, b = _fib(n // 2)\n",
    "        c = a * (b * 2 - a)\n",
    "        d = a * a + b * b\n",
    "        if n % 2 == 0:\n",
    "            return (c, d)\n",
    "        else:\n",
    "            return (d, c + d)\n",
    "\n",
    "\n",
    "n = 1000 #число\n",
    "print(f\"fib({n}) = {fib(n)}\")"
   ]
  },
  {
   "cell_type": "code",
   "execution_count": 22,
   "metadata": {},
   "outputs": [
    {
     "data": {
      "text/plain": [
       "0.9993908270190958"
      ]
     },
     "execution_count": 22,
     "metadata": {},
     "output_type": "execute_result"
    }
   ],
   "source": [
    "import math\n",
    "math.cos(math.radians(2))"
   ]
  },
  {
   "cell_type": "code",
   "execution_count": null,
   "metadata": {},
   "outputs": [],
   "source": [
    "#для дз нужно создать пепременную с суммой и поделить на количество будет ответом"
   ]
  },
  {
   "cell_type": "code",
   "execution_count": 33,
   "metadata": {},
   "outputs": [
    {
     "data": {
      "text/plain": [
       "114.59155902616465"
      ]
     },
     "execution_count": 33,
     "metadata": {},
     "output_type": "execute_result"
    }
   ],
   "source": [
    "#преобразовать радианты в градусы так\n",
    "a= math.pi\n",
    "2*180/a\n",
    "#2- радианы с контрольной 2"
   ]
  },
  {
   "cell_type": "code",
   "execution_count": 48,
   "metadata": {},
   "outputs": [
    {
     "name": "stdout",
     "output_type": "stream",
     "text": [
      "4\n",
      "no\n"
     ]
    }
   ],
   "source": [
    "#просто делать соответствия\n",
    "def f(n): \n",
    "    return \"yes\" if n>=7 else \"no\"\n",
    "n= int(input())\n",
    "print(f(n))"
   ]
  },
  {
   "cell_type": "code",
   "execution_count": null,
   "metadata": {},
   "outputs": [
    {
     "name": "stdout",
     "output_type": "stream",
     "text": [
      "числа, равные сумме факториалов своих цифр\n",
      "1\n",
      "2\n",
      "145\n",
      "40585\n"
     ]
    }
   ],
   "source": [
    "from math import factorial as fact\n",
    "\n",
    "print('числа, равные сумме факториалов своих цифр')\n",
    "k = []\n",
    "for i in range(0, 10000000000000):\n",
    "    s = sum([fact(int(x)) for x in str(i)]) \n",
    "    if s == i:\n",
    "        print(i) \n",
    "        k.append(i)\n",
    "\n",
    "if len(k) == 0: print('Таких чисел нет')"
   ]
  },
  {
   "cell_type": "code",
   "execution_count": null,
   "metadata": {},
   "outputs": [],
   "source": []
  }
 ],
 "metadata": {
  "kernelspec": {
   "display_name": "Python 3",
   "language": "python",
   "name": "python3"
  },
  "language_info": {
   "codemirror_mode": {
    "name": "ipython",
    "version": 3
   },
   "file_extension": ".py",
   "mimetype": "text/x-python",
   "name": "python",
   "nbconvert_exporter": "python",
   "pygments_lexer": "ipython3",
   "version": "3.7.0"
  }
 },
 "nbformat": 4,
 "nbformat_minor": 2
}
